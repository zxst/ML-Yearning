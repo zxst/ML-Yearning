{
  "nbformat": 4,
  "nbformat_minor": 0,
  "metadata": {
    "colab": {
      "name": "CNN_knowledge_sharing.ipynb",
      "version": "0.3.2",
      "provenance": [],
      "collapsed_sections": [],
      "toc_visible": true,
      "include_colab_link": true
    },
    "kernelspec": {
      "name": "python3",
      "display_name": "Python 3"
    },
    "accelerator": "GPU"
  },
  "cells": [
    {
      "cell_type": "markdown",
      "metadata": {
        "id": "view-in-github",
        "colab_type": "text"
      },
      "source": [
        "<a href=\"https://colab.research.google.com/github/zxst/ML-Yearning/blob/master/CNN_knowledge_sharing.ipynb\" target=\"_parent\"><img src=\"https://colab.research.google.com/assets/colab-badge.svg\" alt=\"Open In Colab\"/></a>"
      ]
    },
    {
      "metadata": {
        "id": "dE4U3OZ9aUUM",
        "colab_type": "text"
      },
      "cell_type": "markdown",
      "source": [
        "# Outline:\n",
        "## 1.先来回顾上节课内容（全连接神经网络）\n",
        "## 2.为什么要用卷积\n",
        "## 3.卷积是怎么卷的\n",
        "## 4.典型的卷积网络长什么样\n",
        "## 5.从头build一个CNN来进行一个简单的分类任务\n",
        "## 6.使用一些方法来提升模型的表现\n",
        "## 7.换个思路：从数据上着手\n",
        "## 8.进一步提升：借助预训练的模型进行预测\n",
        "## 9.最后给大家看看神奇的卷积卷出来的到底是什么\n"
      ]
    },
    {
      "metadata": {
        "id": "0yW3zSDcXfND",
        "colab_type": "code",
        "colab": {}
      },
      "cell_type": "code",
      "source": [
        ""
      ],
      "execution_count": 0,
      "outputs": []
    },
    {
      "metadata": {
        "id": "U6WT_ouTj8kZ",
        "colab_type": "text"
      },
      "cell_type": "markdown",
      "source": [
        "# 1 全连接神经网络\n",
        "\n",
        "\n",
        "*   Input (shape?)\n",
        "*   Hidden Layer\n",
        "*   Activation\n",
        "*   Output\n",
        "*   Loss function\n",
        "*   Model loss\n",
        "*   Backpropagation\n",
        "*   SGD\n",
        "*   When to stop?\n"
      ]
    },
    {
      "metadata": {
        "id": "iqMS7pt4aR7a",
        "colab_type": "code",
        "colab": {
          "base_uri": "https://localhost:8080/",
          "height": 90
        },
        "outputId": "3253b817-41ef-4ff5-87c3-2770601cd75e"
      },
      "cell_type": "code",
      "source": [
        "from keras import models\n",
        "from keras import layers\n",
        "model = models.Sequential()\n",
        "model.add(layers.Dense(32, activation='relu',input_shape=(784,)))\n",
        "model.add(layers.Dense(32, activation='relu'))\n",
        "model.add(layers.Dense(10, activation='softmax'))\n"
      ],
      "execution_count": 2,
      "outputs": [
        {
          "output_type": "stream",
          "text": [
            "WARNING:tensorflow:From /usr/local/lib/python3.6/dist-packages/tensorflow/python/framework/op_def_library.py:263: colocate_with (from tensorflow.python.framework.ops) is deprecated and will be removed in a future version.\n",
            "Instructions for updating:\n",
            "Colocations handled automatically by placer.\n"
          ],
          "name": "stdout"
        }
      ]
    },
    {
      "metadata": {
        "id": "Pli9FBeMd3yd",
        "colab_type": "code",
        "colab": {
          "base_uri": "https://localhost:8080/",
          "height": 248
        },
        "outputId": "2736a9be-f848-45bb-b19c-b3dcb3caece7"
      },
      "cell_type": "code",
      "source": [
        "model.summary()"
      ],
      "execution_count": 4,
      "outputs": [
        {
          "output_type": "stream",
          "text": [
            "_________________________________________________________________\n",
            "Layer (type)                 Output Shape              Param #   \n",
            "=================================================================\n",
            "dense_1 (Dense)              (None, 32)                25120     \n",
            "_________________________________________________________________\n",
            "dense_2 (Dense)              (None, 32)                1056      \n",
            "_________________________________________________________________\n",
            "dense_3 (Dense)              (None, 10)                330       \n",
            "=================================================================\n",
            "Total params: 26,506\n",
            "Trainable params: 26,506\n",
            "Non-trainable params: 0\n",
            "_________________________________________________________________\n"
          ],
          "name": "stdout"
        }
      ]
    },
    {
      "metadata": {
        "id": "arisOhP-eDH9",
        "colab_type": "code",
        "colab": {}
      },
      "cell_type": "code",
      "source": [
        "model.compile(optimizer = 'rmsprop',\n",
        "              loss = 'crossentropy',\n",
        "              metrics = ['acc'])"
      ],
      "execution_count": 0,
      "outputs": []
    },
    {
      "metadata": {
        "id": "6RuG9tqTfG6d",
        "colab_type": "text"
      },
      "cell_type": "markdown",
      "source": [
        "# 2 为什么要用卷积"
      ]
    },
    {
      "metadata": {
        "id": "kVIkzQC3fZmY",
        "colab_type": "text"
      },
      "cell_type": "markdown",
      "source": [
        "# 3 卷积是怎么实现的  \n",
        "\n",
        "\n",
        "---\n",
        "\n",
        "\n",
        "从最简单的例子开始\n",
        "![alt text](https://cdn.nlark.com/yuque/0/2019/gif/160603/1551078820438-5ffec5ec-c32e-40db-afbb-00fe98daca0c.gif)\n",
        "![alt text](https://cdn.nlark.com/yuque/0/2019/gif/160603/1551078963956-2b10263c-3be8-49e1-a2a5-c3f78dbda32c.gif)  \n",
        "\n",
        "\n",
        "---\n",
        "\n",
        "\n",
        "然后引入了padding的概念，也就是往边缘填充\n",
        "\n",
        "![alt text](https://cdn.nlark.com/yuque/0/2019/gif/160603/1551079167251-cfad5f66-158f-4a19-b4e7-4c851289df7e.gif)\n",
        "\n",
        "\n",
        "\n",
        "---\n",
        "\n",
        "再加入步幅(stride)  \n",
        "![alt text](https://cdn.nlark.com/yuque/0/2019/gif/160603/1551079167251-3fecfd2c-275e-4db9-82e4-c196a8277b47.gif)\n",
        "\n",
        "\n",
        "---\n",
        "\n",
        "大多数时候，我们处理的图像是三通道的。所以，多通道版本  ：  \n",
        "![alt text](https://cdn.nlark.com/yuque/0/2019/jpeg/160603/1551084127859-6910b20d-f5b0-45ec-9f87-b23c080472e3.jpeg)  \n",
        "\n",
        "对于这种问题，我们的卷积核也是又多个通道的：  \n",
        "![alt text](https://cdn.nlark.com/yuque/0/2019/png/160603/1551084127737-da485393-3832-482c-991d-ede09a5a92fc.png)  \n",
        "\n",
        "两种方式帮助大家理解多通道卷积是怎么计算的：  \n",
        "1.逐层划过  \n",
        "2.所有channels 同时划过  \n",
        "############   \n",
        "逐层划过  \n",
        "![alt text](https://cdn.nlark.com/yuque/0/2019/gif/160603/1551084128079-20f991f4-c2f8-4bba-b2d8-35dcd08918c2.gif)  \n",
        "![alt text](https://cdn.nlark.com/yuque/0/2019/gif/160603/1551084127732-999f2db5-8c99-4c7c-b806-11db1fb23b6c.gif)  \n",
        "\n",
        "############  \n",
        "所有channels 同时划过  \n",
        "![](https://cdn.nlark.com/yuque/0/2019/png/160603/1551085717619-c138a71c-07de-42c7-b5f2-a879306dac9f.png)  \n",
        "\n",
        "但是直到这我们也只实现了一层的feature map, 想实现多层怎么办：  \n",
        "![](https://cdn.nlark.com/yuque/0/2019/png/160603/1551085717309-91a2b53f-4dae-475e-b910-e100c96d7824.png)    \n",
        "\n",
        "最后再介绍三种卷积：  \n",
        "1X1卷积  \n",
        "![](https://cdn.nlark.com/yuque/0/2019/png/160603/1551085717557-3677cf4e-1a23-4770-997a-37c1bb8dc156.png)    \n",
        "\n",
        "3D卷积  \n",
        "![](https://cdn.nlark.com/yuque/0/2019/png/160603/1551085717450-a965a7f7-3ac1-4e54-acd1-2ad68f1b4b6b.png)  \n",
        "\n",
        "深度可分离卷积：  \n",
        "\n",
        "![](https://cdn.nlark.com/yuque/0/2019/png/160603/1551087905655-6c625bdd-f9e1-4984-b90f-8e56de40026d.png)\n",
        "\n"
      ]
    },
    {
      "metadata": {
        "id": "4B-TlbRoDabc",
        "colab_type": "text"
      },
      "cell_type": "markdown",
      "source": [
        "# 4 典型的卷积网络长什么样  \n",
        "给大家看一个很早期的LeNet, 很经典的一个网络架构  \n",
        "\n",
        "![alt text](http://img.mp.itc.cn/upload/20170416/b41478d96ef340289d24dc78bdffb0f1_th.jpeg)\n"
      ]
    },
    {
      "metadata": {
        "id": "eiHwP2LvfMcs",
        "colab_type": "code",
        "colab": {
          "base_uri": "https://localhost:8080/",
          "height": 517
        },
        "outputId": "9ae6a16e-33c6-4ce0-dceb-e17a923fa83d"
      },
      "cell_type": "code",
      "source": [
        "# 现在我们来重现以下这个网络看看对不对\n",
        "from keras import layers\n",
        "from keras import models\n",
        "\n",
        "\n",
        "model_lenet = models.Sequential()\n",
        "model_lenet.add(layers.Conv2D(6,(5,5), activation='relu', input_shape = (32,32,1)))\n",
        "model_lenet.add(layers.MaxPooling2D(2,2))\n",
        "model_lenet.add(layers.Conv2D(16,(5,5),activation='relu'))\n",
        "model_lenet.add(layers.MaxPooling2D(2,2))\n",
        "model_lenet.add(layers.Flatten())\n",
        "model_lenet.add(layers.Dense(120,activation='relu'))\n",
        "model_lenet.add(layers.Dense(84,activation='relu'))\n",
        "model_lenet.add(layers.Dense(10,activation='softmax'))\n",
        "\n",
        "model_lenet.summary()"
      ],
      "execution_count": 1,
      "outputs": [
        {
          "output_type": "stream",
          "text": [
            "Using TensorFlow backend.\n"
          ],
          "name": "stderr"
        },
        {
          "output_type": "stream",
          "text": [
            "WARNING:tensorflow:From /usr/local/lib/python3.6/dist-packages/tensorflow/python/framework/op_def_library.py:263: colocate_with (from tensorflow.python.framework.ops) is deprecated and will be removed in a future version.\n",
            "Instructions for updating:\n",
            "Colocations handled automatically by placer.\n",
            "_________________________________________________________________\n",
            "Layer (type)                 Output Shape              Param #   \n",
            "=================================================================\n",
            "conv2d_1 (Conv2D)            (None, 28, 28, 6)         156       \n",
            "_________________________________________________________________\n",
            "max_pooling2d_1 (MaxPooling2 (None, 14, 14, 6)         0         \n",
            "_________________________________________________________________\n",
            "conv2d_2 (Conv2D)            (None, 10, 10, 16)        2416      \n",
            "_________________________________________________________________\n",
            "max_pooling2d_2 (MaxPooling2 (None, 5, 5, 16)          0         \n",
            "_________________________________________________________________\n",
            "flatten_1 (Flatten)          (None, 400)               0         \n",
            "_________________________________________________________________\n",
            "dense_1 (Dense)              (None, 120)               48120     \n",
            "_________________________________________________________________\n",
            "dense_2 (Dense)              (None, 84)                10164     \n",
            "_________________________________________________________________\n",
            "dense_3 (Dense)              (None, 10)                850       \n",
            "=================================================================\n",
            "Total params: 61,706\n",
            "Trainable params: 61,706\n",
            "Non-trainable params: 0\n",
            "_________________________________________________________________\n"
          ],
          "name": "stdout"
        }
      ]
    },
    {
      "metadata": {
        "id": "6tMlPpA-n2Rf",
        "colab_type": "code",
        "colab": {}
      },
      "cell_type": "code",
      "source": [
        "from keras.utils import plot_model\n",
        "plot_model(model_lenet, show_shapes=True, to_file='model.png')"
      ],
      "execution_count": 0,
      "outputs": []
    },
    {
      "metadata": {
        "id": "wToVh4RPJcpi",
        "colab_type": "text"
      },
      "cell_type": "markdown",
      "source": [
        "# 5 从头build一个CNN来进行一个简单的分类任务\n",
        "一个超级简单的图像分类任务猫狗分类。 通过这个任务，大家可以看出怎么使用CNN来解决现实问题。\n"
      ]
    },
    {
      "metadata": {
        "id": "ReJrj5sFWUn4",
        "colab_type": "text"
      },
      "cell_type": "markdown",
      "source": [
        "## Load the data"
      ]
    },
    {
      "metadata": {
        "id": "d4qJ8d0qNQpU",
        "colab_type": "code",
        "colab": {
          "base_uri": "https://localhost:8080/",
          "height": 212
        },
        "outputId": "52e77076-7c7c-41ae-cd46-028dffafb6fc"
      },
      "cell_type": "code",
      "source": [
        "# 首先我们获取数据\n",
        "\n",
        "!wget --no-check-certificate \\\n",
        "    https://storage.googleapis.com/mledu-datasets/cats_and_dogs_filtered.zip"
      ],
      "execution_count": 7,
      "outputs": [
        {
          "output_type": "stream",
          "text": [
            "--2019-02-26 07:21:19--  https://storage.googleapis.com/mledu-datasets/cats_and_dogs_filtered.zip\n",
            "Resolving storage.googleapis.com (storage.googleapis.com)... 74.125.203.128, 2404:6800:4008:c00::80\n",
            "Connecting to storage.googleapis.com (storage.googleapis.com)|74.125.203.128|:443... connected.\n",
            "HTTP request sent, awaiting response... 200 OK\n",
            "Length: 68606236 (65M) [application/zip]\n",
            "Saving to: ‘cats_and_dogs_filtered.zip’\n",
            "\n",
            "cats_and_dogs_filte 100%[===================>]  65.43M  54.0MB/s    in 1.2s    \n",
            "\n",
            "2019-02-26 07:21:21 (54.0 MB/s) - ‘cats_and_dogs_filtered.zip’ saved [68606236/68606236]\n",
            "\n"
          ],
          "name": "stdout"
        }
      ]
    },
    {
      "metadata": {
        "id": "paznWylkSEz1",
        "colab_type": "code",
        "colab": {}
      },
      "cell_type": "code",
      "source": [
        "import os\n",
        "import zipfile\n",
        "\n",
        "local_zip = 'cats_and_dogs_filtered.zip'\n",
        "zip_ref = zipfile.ZipFile(local_zip, 'r')\n",
        "zip_ref.extractall('/content/sample_data')\n",
        "zip_ref.close()"
      ],
      "execution_count": 0,
      "outputs": []
    },
    {
      "metadata": {
        "id": "F0gHsFYRTDFn",
        "colab_type": "code",
        "colab": {
          "base_uri": "https://localhost:8080/",
          "height": 35
        },
        "outputId": "082e4945-05d7-43d3-947f-c2d06dfe0f67"
      },
      "cell_type": "code",
      "source": [
        "os.listdir('sample_data/cats_and_dogs_filtered')"
      ],
      "execution_count": 9,
      "outputs": [
        {
          "output_type": "execute_result",
          "data": {
            "text/plain": [
              "['validation', 'train', 'vectorize.py']"
            ]
          },
          "metadata": {
            "tags": []
          },
          "execution_count": 9
        }
      ]
    },
    {
      "metadata": {
        "id": "oyXQT_gqTmbk",
        "colab_type": "code",
        "colab": {
          "base_uri": "https://localhost:8080/",
          "height": 88
        },
        "outputId": "411ec2f0-dea1-4fa4-b801-20ebd8755fde"
      },
      "cell_type": "code",
      "source": [
        "print('training cat images',len(os.listdir('sample_data/cats_and_dogs_filtered/train/cats')))\n",
        "print('training dog images',len(os.listdir('sample_data/cats_and_dogs_filtered/train/dogs')))\n",
        "\n",
        "print('validation cat images',len(os.listdir('sample_data/cats_and_dogs_filtered/validation/cats')))\n",
        "print('validation dog images',len(os.listdir('sample_data/cats_and_dogs_filtered/validation/dogs')))"
      ],
      "execution_count": 10,
      "outputs": [
        {
          "output_type": "stream",
          "text": [
            "training cat images 1000\n",
            "training dog images 1000\n",
            "validation cat images 500\n",
            "validation dog images 500\n"
          ],
          "name": "stdout"
        }
      ]
    },
    {
      "metadata": {
        "id": "RXsVFqqeT0Wn",
        "colab_type": "code",
        "colab": {}
      },
      "cell_type": "code",
      "source": [
        "#这时候我们从validation folder 中分出250个创建一个test folder\n",
        "import shutil\n",
        "\n",
        "base_dir = '/content/sample_data/cats_and_dogs_filtered'\n",
        "\n",
        "test_dir = os.path.join(base_dir, 'test')\n",
        "os.mkdir(test_dir)\n",
        "\n",
        "train_cats_dir = os.path.join(base_dir, 'train/cats')\n",
        "train_dogs_dir = os.path.join(base_dir, 'train/dogs')\n",
        "\n",
        "test_cats_dir = os.path.join(test_dir, 'cats')\n",
        "os.mkdir(test_cats_dir)\n",
        "test_dogs_dir = os.path.join(test_dir, 'dogs')\n",
        "os.mkdir(test_dogs_dir)\n",
        "\n",
        "validation_cats_dir = os.path.join(base_dir, 'validation/cats')\n",
        "validation_dogs_dir = os.path.join(base_dir, 'validation/dogs')\n",
        "\n",
        "fnames_cats = os.listdir(validation_cats_dir)[0:250]\n",
        "fnames_dogs = os.listdir(validation_dogs_dir)[0:250]\n",
        "\n",
        "for fname_cats, fname_dogs in zip(fnames_cats, fnames_dogs):\n",
        "  src_cats = os.path.join(validation_cats_dir, fname_cats)\n",
        "  src_dogs = os.path.join(validation_dogs_dir, fname_dogs)\n",
        "  \n",
        "  dst_cats = os.path.join(test_cats_dir, fname_cats)\n",
        "  dst_dogs = os.path.join(test_dogs_dir, fname_dogs)\n",
        "  \n",
        "  shutil.move(src_cats, dst_cats)\n",
        "  shutil.move(src_dogs, dst_dogs)"
      ],
      "execution_count": 0,
      "outputs": []
    },
    {
      "metadata": {
        "id": "zMvQ2KAUVinU",
        "colab_type": "code",
        "colab": {
          "base_uri": "https://localhost:8080/",
          "height": 124
        },
        "outputId": "a0fc17ec-60ff-4687-b606-f66a7011aaa7"
      },
      "cell_type": "code",
      "source": [
        "print('training cat images:', len(os.listdir(train_cats_dir)))\n",
        "print('training dog images:', len(os.listdir(train_dogs_dir)))\n",
        "print('validation cat images:', len(os.listdir(validation_cats_dir)))\n",
        "print('validation dog images:', len(os.listdir(validation_dogs_dir)))\n",
        "print('test cat images:', len(os.listdir(test_cats_dir)))\n",
        "print('test dog images:', len(os.listdir(test_dogs_dir)))"
      ],
      "execution_count": 6,
      "outputs": [
        {
          "output_type": "stream",
          "text": [
            "training cat images: 1000\n",
            "training dog images: 1000\n",
            "validation cat images: 250\n",
            "validation dog images: 250\n",
            "test cat images: 250\n",
            "test dog images: 250\n"
          ],
          "name": "stdout"
        }
      ]
    },
    {
      "metadata": {
        "id": "4Dr_t8o9WJsR",
        "colab_type": "text"
      },
      "cell_type": "markdown",
      "source": [
        "## 数据预处理\n",
        "如何将.jpg数据处理成模型的input(tensor)?\n",
        "\n",
        "\n",
        "1.   Read the image\n",
        "2.   Decode the .jpg file to RGB format\n",
        "3.   Convert RGB format to tensor\n",
        "4.   Normalization the data to [0-1]\n",
        "\n",
        "在这个案例里，我们使用keras.preprocessing.image中的ImageDataGenerator函数，创建一个生成器，来将jpg转化为tensor\n"
      ]
    },
    {
      "metadata": {
        "id": "SE1XvXh7WI9g",
        "colab_type": "code",
        "colab": {}
      },
      "cell_type": "code",
      "source": [
        "def gnt():\n",
        "  for i in range(1000):\n",
        "      yield i"
      ],
      "execution_count": 0,
      "outputs": []
    },
    {
      "metadata": {
        "id": "BMBXw9HRX-Io",
        "colab_type": "code",
        "colab": {}
      },
      "cell_type": "code",
      "source": [
        "g=gnt()\n"
      ],
      "execution_count": 0,
      "outputs": []
    },
    {
      "metadata": {
        "id": "jMghdgdEZ77W",
        "colab_type": "code",
        "colab": {
          "base_uri": "https://localhost:8080/",
          "height": 35
        },
        "outputId": "968c9105-92a6-404d-bdde-6dc8b6b806e2"
      },
      "cell_type": "code",
      "source": [
        "#next \n",
        "next(g)"
      ],
      "execution_count": 48,
      "outputs": [
        {
          "output_type": "execute_result",
          "data": {
            "text/plain": [
              "4"
            ]
          },
          "metadata": {
            "tags": []
          },
          "execution_count": 48
        }
      ]
    },
    {
      "metadata": {
        "id": "xxcFOykqaABo",
        "colab_type": "code",
        "colab": {
          "base_uri": "https://localhost:8080/",
          "height": 35
        },
        "outputId": "3f536de7-ab7a-4040-d098-9cd88348248c"
      },
      "cell_type": "code",
      "source": [
        "#for\n",
        "for data in gnt():\n",
        "  print(data)\n",
        "  break"
      ],
      "execution_count": 49,
      "outputs": [
        {
          "output_type": "stream",
          "text": [
            "0\n"
          ],
          "name": "stdout"
        }
      ]
    },
    {
      "metadata": {
        "id": "4I4WwFTnalZr",
        "colab_type": "code",
        "colab": {
          "base_uri": "https://localhost:8080/",
          "height": 52
        },
        "outputId": "7e474855-a022-4cbc-e062-18644d8a55aa"
      },
      "cell_type": "code",
      "source": [
        "# 以上为生成器的介绍，下面我们构建数据预处理的生成器\n",
        "from keras.preprocessing.image import ImageDataGenerator\n",
        "\n",
        "train_datagen = ImageDataGenerator(rescale = 1./255)\n",
        "test_datagen = ImageDataGenerator(rescale = 1./255)\n",
        "\n",
        "train_dir = os.path.join(base_dir, 'train')\n",
        "validation_dir = os.path.join(base_dir, 'validation')\n",
        "\n",
        "train_generator = train_datagen.flow_from_directory(\n",
        "    train_dir,\n",
        "    target_size = (150,150),\n",
        "    batch_size = 20,\n",
        "    class_mode = 'binary')\n",
        "\n",
        "validation_generator = test_datagen.flow_from_directory(\n",
        "    validation_dir,\n",
        "    target_size = (150,150),\n",
        "    batch_size = 20,\n",
        "    class_mode = 'binary')"
      ],
      "execution_count": 12,
      "outputs": [
        {
          "output_type": "stream",
          "text": [
            "Found 2000 images belonging to 2 classes.\n",
            "Found 500 images belonging to 2 classes.\n"
          ],
          "name": "stdout"
        }
      ]
    },
    {
      "metadata": {
        "id": "iXxqyx75peHG",
        "colab_type": "code",
        "colab": {
          "base_uri": "https://localhost:8080/",
          "height": 70
        },
        "outputId": "cd69ba59-9259-4d8f-fb3b-359fb288bf23"
      },
      "cell_type": "code",
      "source": [
        "# Now we can see the output of the generator\n",
        "# But how can we know which class is 0/1\n",
        "for data_batch, labels_batch in train_generator:\n",
        "  print('data batch shape:', data_batch.shape)\n",
        "  \n",
        "  print('labels batch shape:', labels_batch.shape)\n",
        "  print(labels_batch)\n",
        "  break"
      ],
      "execution_count": 13,
      "outputs": [
        {
          "output_type": "stream",
          "text": [
            "data batch shape: (20, 150, 150, 3)\n",
            "labels batch shape: (20,)\n",
            "[0. 0. 1. 0. 1. 1. 0. 1. 1. 0. 0. 1. 1. 1. 1. 1. 1. 0. 0. 0.]\n"
          ],
          "name": "stdout"
        }
      ]
    },
    {
      "metadata": {
        "id": "R845Tv-rqNNo",
        "colab_type": "code",
        "colab": {
          "base_uri": "https://localhost:8080/",
          "height": 368
        },
        "outputId": "d4700de9-53ac-4aeb-b43a-af7bf00b703a"
      },
      "cell_type": "code",
      "source": [
        "from keras.preprocessing import image\n",
        "import matplotlib.pyplot as plt\n",
        "plt.imshow(image.array_to_img(data_batch[0]))"
      ],
      "execution_count": 14,
      "outputs": [
        {
          "output_type": "execute_result",
          "data": {
            "text/plain": [
              "<matplotlib.image.AxesImage at 0x7f19a8838b70>"
            ]
          },
          "metadata": {
            "tags": []
          },
          "execution_count": 14
        },
        {
          "output_type": "display_data",
          "data": {
            "image/png": "[encoded data removed]",
            "text/plain": [
              "<Figure size 576x396 with 1 Axes>"
            ]
          },
          "metadata": {
            "tags": []
          }
        }
      ]
    },
    {
      "metadata": {
        "id": "s_klEfAsv49e",
        "colab_type": "code",
        "colab": {}
      },
      "cell_type": "code",
      "source": [
        "from keras import models\n",
        "from keras import layers\n",
        "\n",
        "model = models.Sequential()\n",
        "\n",
        "model.add(layers.Conv2D(32, (3,3), activation = 'relu', input_shape = (150,150,3)))\n",
        "model.add(layers.MaxPooling2D((2,2)))\n",
        "model.add(layers.Conv2D(64, (3,3), activation = 'relu'))\n",
        "model.add(layers.MaxPooling2D((2,2)))\n",
        "model.add(layers.Conv2D(128, (3,3), activation = 'relu'))\n",
        "model.add(layers.MaxPooling2D((2,2)))\n",
        "model.add(layers.Conv2D(128, (3,3), activation = 'relu'))\n",
        "model.add(layers.MaxPooling2D((2,2)))\n",
        "model.add(layers.Flatten())\n",
        "model.add(layers.Dense(512, activation = 'relu'))\n",
        "model.add(layers.Dense(1, activation = 'sigmoid'))"
      ],
      "execution_count": 0,
      "outputs": []
    },
    {
      "metadata": {
        "id": "0y84mqpdp99X",
        "colab_type": "code",
        "colab": {
          "base_uri": "https://localhost:8080/",
          "height": 532
        },
        "outputId": "7b2a241d-90c1-49ab-80de-ca70bea3b676"
      },
      "cell_type": "code",
      "source": [
        "model.summary()"
      ],
      "execution_count": 4,
      "outputs": [
        {
          "output_type": "stream",
          "text": [
            "_________________________________________________________________\n",
            "Layer (type)                 Output Shape              Param #   \n",
            "=================================================================\n",
            "conv2d_3 (Conv2D)            (None, 148, 148, 32)      896       \n",
            "_________________________________________________________________\n",
            "max_pooling2d_3 (MaxPooling2 (None, 74, 74, 32)        0         \n",
            "_________________________________________________________________\n",
            "conv2d_4 (Conv2D)            (None, 72, 72, 64)        18496     \n",
            "_________________________________________________________________\n",
            "max_pooling2d_4 (MaxPooling2 (None, 36, 36, 64)        0         \n",
            "_________________________________________________________________\n",
            "conv2d_5 (Conv2D)            (None, 34, 34, 128)       73856     \n",
            "_________________________________________________________________\n",
            "max_pooling2d_5 (MaxPooling2 (None, 17, 17, 128)       0         \n",
            "_________________________________________________________________\n",
            "conv2d_6 (Conv2D)            (None, 15, 15, 128)       147584    \n",
            "_________________________________________________________________\n",
            "max_pooling2d_6 (MaxPooling2 (None, 7, 7, 128)         0         \n",
            "_________________________________________________________________\n",
            "flatten_2 (Flatten)          (None, 6272)              0         \n",
            "_________________________________________________________________\n",
            "dense_4 (Dense)              (None, 512)               3211776   \n",
            "_________________________________________________________________\n",
            "dense_5 (Dense)              (None, 1)                 513       \n",
            "=================================================================\n",
            "Total params: 3,453,121\n",
            "Trainable params: 3,453,121\n",
            "Non-trainable params: 0\n",
            "_________________________________________________________________\n"
          ],
          "name": "stdout"
        }
      ]
    },
    {
      "metadata": {
        "id": "Ttzq08Rup-ys",
        "colab_type": "code",
        "colab": {}
      },
      "cell_type": "code",
      "source": [
        "# 配置我们的模型\n",
        "from keras import optimizers\n",
        "\n",
        "model.compile(loss = 'binary_crossentropy',\n",
        "              optimizer = optimizers.RMSprop(lr = 1e-4),\n",
        "              metrics = ['acc'])"
      ],
      "execution_count": 0,
      "outputs": []
    },
    {
      "metadata": {
        "id": "ppQNAFD_qiZX",
        "colab_type": "code",
        "colab": {
          "base_uri": "https://localhost:8080/",
          "height": 1157
        },
        "outputId": "bb697a31-c09d-401f-879c-07003fa0cb23"
      },
      "cell_type": "code",
      "source": [
        "# 训练模型\n",
        "history = model.fit_generator(\n",
        "    train_generator,\n",
        "    steps_per_epoch = 100,\n",
        "    epochs = 30,\n",
        "    validation_data = validation_generator,\n",
        "    validation_steps = 25)\n",
        "\n",
        "# 随手保存模型是一个好习惯\n",
        "model.save('cat_dog_small_1.h5')"
      ],
      "execution_count": 15,
      "outputs": [
        {
          "output_type": "stream",
          "text": [
            "WARNING:tensorflow:From /usr/local/lib/python3.6/dist-packages/tensorflow/python/ops/math_ops.py:3066: to_int32 (from tensorflow.python.ops.math_ops) is deprecated and will be removed in a future version.\n",
            "Instructions for updating:\n",
            "Use tf.cast instead.\n",
            "Epoch 1/30\n",
            "100/100 [==============================] - 14s 143ms/step - loss: 0.6870 - acc: 0.5400 - val_loss: 0.6607 - val_acc: 0.6440\n",
            "Epoch 2/30\n",
            "100/100 [==============================] - 9s 88ms/step - loss: 0.6583 - acc: 0.6045 - val_loss: 0.6280 - val_acc: 0.6760\n",
            "Epoch 3/30\n",
            "100/100 [==============================] - 9s 86ms/step - loss: 0.6035 - acc: 0.6745 - val_loss: 0.5814 - val_acc: 0.6980\n",
            "Epoch 4/30\n",
            "100/100 [==============================] - 9s 86ms/step - loss: 0.5692 - acc: 0.6980 - val_loss: 0.5778 - val_acc: 0.7020\n",
            "Epoch 5/30\n",
            "100/100 [==============================] - 9s 86ms/step - loss: 0.5403 - acc: 0.7165 - val_loss: 0.5584 - val_acc: 0.7260\n",
            "Epoch 6/30\n",
            "100/100 [==============================] - 8s 85ms/step - loss: 0.5102 - acc: 0.7495 - val_loss: 0.5487 - val_acc: 0.7100\n",
            "Epoch 7/30\n",
            "100/100 [==============================] - 9s 86ms/step - loss: 0.4878 - acc: 0.7650 - val_loss: 0.5553 - val_acc: 0.7060\n",
            "Epoch 8/30\n",
            "100/100 [==============================] - 9s 86ms/step - loss: 0.4695 - acc: 0.7800 - val_loss: 0.5349 - val_acc: 0.7180\n",
            "Epoch 9/30\n",
            "100/100 [==============================] - 9s 86ms/step - loss: 0.4434 - acc: 0.7980 - val_loss: 0.5179 - val_acc: 0.7360\n",
            "Epoch 10/30\n",
            "100/100 [==============================] - 9s 87ms/step - loss: 0.4210 - acc: 0.8045 - val_loss: 0.5179 - val_acc: 0.7460\n",
            "Epoch 11/30\n",
            "100/100 [==============================] - 9s 86ms/step - loss: 0.3987 - acc: 0.8150 - val_loss: 0.5472 - val_acc: 0.7400\n",
            "Epoch 12/30\n",
            "100/100 [==============================] - 9s 88ms/step - loss: 0.3769 - acc: 0.8300 - val_loss: 0.5266 - val_acc: 0.7540\n",
            "Epoch 13/30\n",
            "100/100 [==============================] - 9s 88ms/step - loss: 0.3508 - acc: 0.8545 - val_loss: 0.5183 - val_acc: 0.7580\n",
            "Epoch 14/30\n",
            "100/100 [==============================] - 9s 86ms/step - loss: 0.3347 - acc: 0.8590 - val_loss: 0.5107 - val_acc: 0.7620\n",
            "Epoch 15/30\n",
            "100/100 [==============================] - 8s 85ms/step - loss: 0.3127 - acc: 0.8665 - val_loss: 0.5125 - val_acc: 0.7500\n",
            "Epoch 16/30\n",
            "100/100 [==============================] - 8s 84ms/step - loss: 0.2854 - acc: 0.8810 - val_loss: 0.5001 - val_acc: 0.7620\n",
            "Epoch 17/30\n",
            "100/100 [==============================] - 8s 84ms/step - loss: 0.2733 - acc: 0.8900 - val_loss: 0.5768 - val_acc: 0.7280\n",
            "Epoch 18/30\n",
            "100/100 [==============================] - 8s 84ms/step - loss: 0.2457 - acc: 0.9050 - val_loss: 0.5158 - val_acc: 0.7640\n",
            "Epoch 19/30\n",
            "100/100 [==============================] - 9s 86ms/step - loss: 0.2264 - acc: 0.9085 - val_loss: 0.5208 - val_acc: 0.7780\n",
            "Epoch 20/30\n",
            "100/100 [==============================] - 8s 84ms/step - loss: 0.2061 - acc: 0.9260 - val_loss: 0.5872 - val_acc: 0.7520\n",
            "Epoch 21/30\n",
            "100/100 [==============================] - 8s 85ms/step - loss: 0.1889 - acc: 0.9335 - val_loss: 0.6594 - val_acc: 0.7360\n",
            "Epoch 22/30\n",
            "100/100 [==============================] - 8s 84ms/step - loss: 0.1735 - acc: 0.9335 - val_loss: 0.5658 - val_acc: 0.7660\n",
            "Epoch 23/30\n",
            "100/100 [==============================] - 8s 85ms/step - loss: 0.1524 - acc: 0.9495 - val_loss: 0.5404 - val_acc: 0.7680\n",
            "Epoch 24/30\n",
            "100/100 [==============================] - 8s 85ms/step - loss: 0.1327 - acc: 0.9560 - val_loss: 0.6151 - val_acc: 0.7640\n",
            "Epoch 25/30\n",
            "100/100 [==============================] - 8s 83ms/step - loss: 0.1223 - acc: 0.9580 - val_loss: 0.5911 - val_acc: 0.7600\n",
            "Epoch 26/30\n",
            "100/100 [==============================] - 8s 84ms/step - loss: 0.1094 - acc: 0.9675 - val_loss: 0.6197 - val_acc: 0.7620\n",
            "Epoch 27/30\n",
            "100/100 [==============================] - 9s 86ms/step - loss: 0.0932 - acc: 0.9750 - val_loss: 0.6285 - val_acc: 0.7600\n",
            "Epoch 28/30\n",
            "100/100 [==============================] - 9s 88ms/step - loss: 0.0817 - acc: 0.9780 - val_loss: 0.6222 - val_acc: 0.7840\n",
            "Epoch 29/30\n",
            "100/100 [==============================] - 9s 85ms/step - loss: 0.0698 - acc: 0.9830 - val_loss: 0.6436 - val_acc: 0.7740\n",
            "Epoch 30/30\n",
            "100/100 [==============================] - 9s 87ms/step - loss: 0.0632 - acc: 0.9820 - val_loss: 0.6587 - val_acc: 0.7780\n"
          ],
          "name": "stdout"
        }
      ]
    },
    {
      "metadata": {
        "id": "lMgAmmoHtGFG",
        "colab_type": "code",
        "colab": {
          "base_uri": "https://localhost:8080/",
          "height": 35
        },
        "outputId": "44647742-8b2e-4b40-b904-f11060d79e33"
      },
      "cell_type": "code",
      "source": [
        "history.history.keys()"
      ],
      "execution_count": 16,
      "outputs": [
        {
          "output_type": "execute_result",
          "data": {
            "text/plain": [
              "dict_keys(['val_loss', 'val_acc', 'loss', 'acc'])"
            ]
          },
          "metadata": {
            "tags": []
          },
          "execution_count": 16
        }
      ]
    },
    {
      "metadata": {
        "id": "5H6XwDcQtGoa",
        "colab_type": "code",
        "colab": {
          "base_uri": "https://localhost:8080/",
          "height": 707
        },
        "outputId": "e3d9323f-df95-43e9-aab6-ef5e525ad5b5"
      },
      "cell_type": "code",
      "source": [
        "import matplotlib.pyplot as plt\n",
        "\n",
        "acc = history.history['acc']\n",
        "val_acc = history.history['val_acc']\n",
        "loss = history.history['loss']\n",
        "val_loss = history.history['val_loss']\n",
        "\n",
        "epochs = range(1, len(acc) + 1)\n",
        "plt.plot(epochs, acc, 'bo', label='Training acc')\n",
        "plt.plot(epochs, val_acc, 'b', label='Validation acc')\n",
        "plt.title('Training and validation accuracy')\n",
        "plt.legend()\n",
        "plt.figure()\n",
        "plt.plot(epochs, loss, 'bo', label='Training loss')\n",
        "plt.plot(epochs, val_loss, 'b', label='Validation loss')\n",
        "plt.title('Training and validation loss')\n",
        "plt.legend()\n",
        "plt.show()"
      ],
      "execution_count": 17,
      "outputs": [
        {
          "output_type": "display_data",
          "data": {
            "image/png": "[encoded data removed]",
            "text/plain": [
              "<Figure size 576x396 with 1 Axes>"
            ]
          },
          "metadata": {
            "tags": []
          }
        },
        {
          "output_type": "display_data",
          "data": {
            "image/png": "[encoded data removed]",
            "text/plain": [
              "<Figure size 576x396 with 1 Axes>"
            ]
          },
          "metadata": {
            "tags": []
          }
        }
      ]
    }
  ]
}